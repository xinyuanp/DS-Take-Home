{
  "nbformat": 4,
  "nbformat_minor": 0,
  "metadata": {
    "colab": {
      "name": "panda functions.ipynb",
      "provenance": [],
      "authorship_tag": "ABX9TyMJIibl74imJ4Un5vitFhC4",
      "include_colab_link": true
    },
    "kernelspec": {
      "name": "python3",
      "display_name": "Python 3"
    }
  },
  "cells": [
    {
      "cell_type": "markdown",
      "metadata": {
        "id": "view-in-github",
        "colab_type": "text"
      },
      "source": [
        "<a href=\"https://colab.research.google.com/github/xinyuanp/DS-Take-Home/blob/master/panda_functions_practice.ipynb\" target=\"_parent\"><img src=\"https://colab.research.google.com/assets/colab-badge.svg\" alt=\"Open In Colab\"/></a>"
      ]
    },
    {
      "cell_type": "markdown",
      "metadata": {
        "id": "fkPJ3zxt4baO"
      },
      "source": [
        "1. How to import pandas and check the version?"
      ]
    },
    {
      "cell_type": "code",
      "metadata": {
        "colab": {
          "base_uri": "https://localhost:8080/"
        },
        "id": "1oz3cenm3ISA",
        "outputId": "f284342b-6d08-4225-f244-657afa836c19"
      },
      "source": [
        "import pandas as pd\r\n",
        "import numpy as np\r\n",
        "print(pd.__version__)\r\n",
        "print(pd.show_versions(as_json=True))"
      ],
      "execution_count": 2,
      "outputs": [
        {
          "output_type": "stream",
          "text": [
            "1.1.5\n"
          ],
          "name": "stdout"
        },
        {
          "output_type": "stream",
          "text": [
            "/usr/local/lib/python3.6/dist-packages/psycopg2/__init__.py:144: UserWarning: The psycopg2 wheel package will be renamed from release 2.8; in order to keep installing from binary please use \"pip install psycopg2-binary\" instead. For details see: <http://initd.org/psycopg/docs/install.html#binary-install-from-pypi>.\n",
            "  \"\"\")\n"
          ],
          "name": "stderr"
        },
        {
          "output_type": "stream",
          "text": [
            "{'system': {'commit': 'b5958ee1999e9aead1938c0bba2b674378807b3d', 'python': '3.6.9.final.0', 'python-bits': 64, 'OS': 'Linux', 'OS-release': '4.19.112+', 'Version': '#1 SMP Thu Jul 23 08:00:38 PDT 2020', 'machine': 'x86_64', 'processor': 'x86_64', 'byteorder': 'little', 'LC_ALL': None, 'LANG': 'en_US.UTF-8', 'LOCALE': {'language-code': 'en_US', 'encoding': 'UTF-8'}}, 'dependencies': {'pandas': '1.1.5', 'numpy': '1.19.5', 'pytz': '2018.9', 'dateutil': '2.8.1', 'pip': '19.3.1', 'setuptools': '51.1.1', 'Cython': '0.29.21', 'pytest': '3.6.4', 'hypothesis': None, 'sphinx': '1.8.5', 'blosc': None, 'feather': '0.4.1', 'xlsxwriter': None, 'lxml.etree': '4.2.6', 'html5lib': '1.0.1', 'pymysql': None, 'psycopg2': '2.7.6.1 (dt dec pq3 ext lo64)', 'jinja2': '2.11.2', 'IPython': '5.5.0', 'pandas_datareader': '0.9.0', 'bs4': '4.6.3', 'bottleneck': '1.3.2', 'fsspec': None, 'fastparquet': None, 'gcsfs': None, 'matplotlib': '3.2.2', 'numexpr': '2.7.2', 'odfpy': None, 'openpyxl': '2.5.9', 'pandas_gbq': '0.13.3', 'pyarrow': '0.14.1', 'pytables': None, 'pyxlsb': None, 's3fs': None, 'scipy': '1.4.1', 'sqlalchemy': '1.3.22', 'tables': '3.4.4', 'tabulate': '0.8.7', 'xarray': '0.15.1', 'xlrd': '1.1.0', 'xlwt': '1.3.0', 'numba': '0.48.0'}}\n",
            "None\n"
          ],
          "name": "stdout"
        }
      ]
    },
    {
      "cell_type": "markdown",
      "metadata": {
        "id": "BH-torIy4x47"
      },
      "source": [
        "2. How to create a series from a list, numpy array and dict?"
      ]
    },
    {
      "cell_type": "code",
      "metadata": {
        "id": "63nbwJkJ43TQ"
      },
      "source": [
        "mylist = list('abcedfghijklmnopqrstuvwxyz')\r\n",
        "myarr = np.arange(26)\r\n",
        "mydict = dict(zip(mylist,myarr))"
      ],
      "execution_count": null,
      "outputs": []
    },
    {
      "cell_type": "markdown",
      "metadata": {
        "id": "frT-7Y666eiB"
      },
      "source": [
        "3. How to convert the index of a series into a column of a dataframe?"
      ]
    },
    {
      "cell_type": "code",
      "metadata": {
        "colab": {
          "base_uri": "https://localhost:8080/"
        },
        "id": "Gy-Ef_wt6Yup",
        "outputId": "7dc29741-533d-4ca2-c471-eae0b357d9ca"
      },
      "source": [
        "ser = pd.Series(mydict)\n",
        "df = ser.to_frame().reset_index()\n",
        "print(df.head())"
      ],
      "execution_count": null,
      "outputs": [
        {
          "output_type": "stream",
          "text": [
            "  index  0\n",
            "0     a  0\n",
            "1     b  1\n",
            "2     c  2\n",
            "3     e  3\n",
            "4     d  4\n"
          ],
          "name": "stdout"
        }
      ]
    },
    {
      "cell_type": "markdown",
      "metadata": {
        "id": "jyD8biy-7OcJ"
      },
      "source": [
        "4. How to combine many series to form a dataframe?"
      ]
    },
    {
      "cell_type": "code",
      "metadata": {
        "colab": {
          "base_uri": "https://localhost:8080/"
        },
        "id": "qUy80_Wd681n",
        "outputId": "b374d996-e025-44d4-c396-572fc4b53b68"
      },
      "source": [
        "ser1 = pd.Series(list('abcedfghijklmnopqrstuvwxyz'))\n",
        "ser2 = pd.Series(np.arange(26))\n",
        "\n",
        "# Solution 1\n",
        "df = pd.concat([ser1, ser2], axis=1)\n",
        "\n",
        "# Solution 2\n",
        "df = pd.DataFrame({'col1': ser1, 'col2': ser2})\n",
        "print(df.head())"
      ],
      "execution_count": null,
      "outputs": [
        {
          "output_type": "stream",
          "text": [
            "  col1  col2\n",
            "0    a     0\n",
            "1    b     1\n",
            "2    c     2\n",
            "3    e     3\n",
            "4    d     4\n"
          ],
          "name": "stdout"
        }
      ]
    },
    {
      "cell_type": "markdown",
      "metadata": {
        "id": "Kx-mEoeY7nYf"
      },
      "source": [
        "5. How to assign name to the series' index"
      ]
    },
    {
      "cell_type": "code",
      "metadata": {
        "colab": {
          "base_uri": "https://localhost:8080/"
        },
        "id": "nvTEQWcj6XEc",
        "outputId": "e3c87a59-1247-488d-dd04-047998a51484"
      },
      "source": [
        "# Input\n",
        "ser = pd.Series(list('abcedfghijklmnopqrstuvwxyz'))\n",
        "\n",
        "# Solution\n",
        "ser.name = 'alphabets'\n",
        "ser.head()"
      ],
      "execution_count": null,
      "outputs": [
        {
          "output_type": "execute_result",
          "data": {
            "text/plain": [
              "0    a\n",
              "1    b\n",
              "2    c\n",
              "3    e\n",
              "4    d\n",
              "Name: alphabets, dtype: object"
            ]
          },
          "metadata": {
            "tags": []
          },
          "execution_count": 13
        }
      ]
    },
    {
      "cell_type": "markdown",
      "metadata": {
        "id": "rZ1tOe2S7ylT"
      },
      "source": [
        "6. How to get the items of series A not present in series B?"
      ]
    },
    {
      "cell_type": "code",
      "metadata": {
        "colab": {
          "base_uri": "https://localhost:8080/"
        },
        "id": "hRAWy6uX6Kau",
        "outputId": "557795c8-4580-4ce2-e28e-dba25e39a838"
      },
      "source": [
        "# Input\n",
        "ser1 = pd.Series([1, 2, 3, 4, 5])\n",
        "ser2 = pd.Series([4, 5, 6, 7, 8])\n",
        "\n",
        "# Solution\n",
        "ser1[~ser1.isin(ser2)]"
      ],
      "execution_count": null,
      "outputs": [
        {
          "output_type": "execute_result",
          "data": {
            "text/plain": [
              "0    1\n",
              "1    2\n",
              "2    3\n",
              "dtype: int64"
            ]
          },
          "metadata": {
            "tags": []
          },
          "execution_count": 15
        }
      ]
    },
    {
      "cell_type": "markdown",
      "metadata": {
        "id": "OZ-wkpWx_YEh"
      },
      "source": [
        "7. How to get the items not common to both series A and B?"
      ]
    },
    {
      "cell_type": "code",
      "metadata": {
        "colab": {
          "base_uri": "https://localhost:8080/"
        },
        "id": "e2psohOi6IPS",
        "outputId": "e2354a99-cd7c-443b-bb94-cdd040d58ce5"
      },
      "source": [
        "# Solution\n",
        "ser_u = pd.Series(np.union1d(ser1, ser2))  # union\n",
        "ser_i = pd.Series(np.intersect1d(ser1, ser2))  # intersect\n",
        "ser_u[~ser_u.isin(ser_i)]"
      ],
      "execution_count": null,
      "outputs": [
        {
          "output_type": "execute_result",
          "data": {
            "text/plain": [
              "0    1\n",
              "1    2\n",
              "2    3\n",
              "5    6\n",
              "6    7\n",
              "7    8\n",
              "dtype: int64"
            ]
          },
          "metadata": {
            "tags": []
          },
          "execution_count": 17
        }
      ]
    },
    {
      "cell_type": "markdown",
      "metadata": {
        "id": "dLYoLIfl_2ow"
      },
      "source": [
        "8. How to get the minimum, 25th percentile, medium, 75th, and max of a numeric series?"
      ]
    },
    {
      "cell_type": "code",
      "metadata": {
        "colab": {
          "base_uri": "https://localhost:8080/"
        },
        "id": "-yv0hdzZ_2X6",
        "outputId": "44c0ea85-4165-474c-9d07-8c36f3e58077"
      },
      "source": [
        "# Input\n",
        "state = np.random.RandomState(100)\n",
        "ser = pd.Series(state.normal(10, 5, 25))\n",
        "\n",
        "# Solution\n",
        "np.percentile(ser, q=[0, 25, 50, 75, 100])\n"
      ],
      "execution_count": null,
      "outputs": [
        {
          "output_type": "execute_result",
          "data": {
            "text/plain": [
              "array([ 1.25117263,  7.70986507, 10.92259345, 13.36360403, 18.0949083 ])"
            ]
          },
          "metadata": {
            "tags": []
          },
          "execution_count": 20
        }
      ]
    },
    {
      "cell_type": "markdown",
      "metadata": {
        "id": "7kFDRrdcA28X"
      },
      "source": [
        "9. How to get frequency counts of unique items of a series?"
      ]
    },
    {
      "cell_type": "code",
      "metadata": {
        "id": "m21uGhcgAQVd"
      },
      "source": [
        "# Input\n",
        "ser = pd.Series(np.take(list('abcdefgh'), np.random.randint(8, size=30)))\n",
        "\n",
        "# Solution\n",
        "ser.value_counts()\n"
      ],
      "execution_count": null,
      "outputs": []
    },
    {
      "cell_type": "markdown",
      "metadata": {
        "id": "IvnCVk1RBehP"
      },
      "source": [
        "10. How to keep only top 2 most frequent values as it is and replace everything else as 'Other'?"
      ]
    },
    {
      "cell_type": "code",
      "metadata": {
        "colab": {
          "base_uri": "https://localhost:8080/"
        },
        "id": "HLftJdBJALkx",
        "outputId": "5f9f8704-6ac5-440d-f9a4-b4f74d6e1cf6"
      },
      "source": [
        "# Input\n",
        "np.random.RandomState(100)\n",
        "ser = pd.Series(np.random.randint(1, 5, [12]))\n",
        "\n",
        "# Solution\n",
        "print(ser.value_counts())\n",
        "ser[~ser.isin(ser.value_counts().index[:2])] = 'Other'\n",
        "ser"
      ],
      "execution_count": 22,
      "outputs": [
        {
          "output_type": "stream",
          "text": [
            "1    4\n",
            "4    3\n",
            "2    3\n",
            "3    2\n",
            "dtype: int64\n"
          ],
          "name": "stdout"
        },
        {
          "output_type": "execute_result",
          "data": {
            "text/plain": [
              "0         1\n",
              "1         4\n",
              "2     Other\n",
              "3     Other\n",
              "4         1\n",
              "5     Other\n",
              "6         4\n",
              "7     Other\n",
              "8         4\n",
              "9         1\n",
              "10    Other\n",
              "11        1\n",
              "dtype: object"
            ]
          },
          "metadata": {
            "tags": []
          },
          "execution_count": 22
        }
      ]
    },
    {
      "cell_type": "markdown",
      "metadata": {
        "id": "V25ZuqvGbsJV"
      },
      "source": [
        "11. How to bin a numeric series to 10 groups of equal size?"
      ]
    },
    {
      "cell_type": "code",
      "metadata": {
        "id": "HKq4YF5A_meX",
        "colab": {
          "base_uri": "https://localhost:8080/"
        },
        "outputId": "8c36f53f-a704-4e7e-d1d0-44f941f71ee9"
      },
      "source": [
        "# Input\r\n",
        "ser = pd.Series(np.random.random(20))\r\n",
        "print(ser.head())\r\n",
        "\r\n",
        "# Solution\r\n",
        "pd.qcut(ser, q=[0, .10, .20, .3, .4, .5, .6, .7, .8, .9, 1], \r\n",
        "        labels=['1st', '2nd', '3rd', '4th', '5th', '6th', '7th', '8th', '9th', '10th']).head()"
      ],
      "execution_count": 24,
      "outputs": [
        {
          "output_type": "stream",
          "text": [
            "0    0.325818\n",
            "1    0.609108\n",
            "2    0.925200\n",
            "3    0.276598\n",
            "4    0.846525\n",
            "dtype: float64\n"
          ],
          "name": "stdout"
        },
        {
          "output_type": "execute_result",
          "data": {
            "text/plain": [
              "0     5th\n",
              "1     7th\n",
              "2    10th\n",
              "3     4th\n",
              "4    10th\n",
              "dtype: category\n",
              "Categories (10, object): ['1st' < '2nd' < '3rd' < '4th' ... '7th' < '8th' < '9th' < '10th']"
            ]
          },
          "metadata": {
            "tags": []
          },
          "execution_count": 24
        }
      ]
    },
    {
      "cell_type": "markdown",
      "metadata": {
        "id": "q1wbtJI7cMIY"
      },
      "source": [
        "12. How to convert a numpy array to a dataframe of given shape? (L1)"
      ]
    },
    {
      "cell_type": "code",
      "metadata": {
        "id": "YoYxlMnV_heT"
      },
      "source": [
        "# Input\r\n",
        "ser = pd.Series(np.random.randint(1, 10, 35))\r\n",
        "# Solution\r\n",
        "# Reshape the series ser into a dataframe with 7 rows and 5 columns\r\n",
        "df = pd.DataFrame(ser.values.reshape(7,5))"
      ],
      "execution_count": null,
      "outputs": []
    },
    {
      "cell_type": "markdown",
      "metadata": {
        "id": "8W8feeQ0dhiU"
      },
      "source": [
        "13. How to find the positions of numbers that are multiples of 3 from a series?\r\n"
      ]
    },
    {
      "cell_type": "code",
      "metadata": {
        "id": "uZ_kWoXa6DJI",
        "colab": {
          "base_uri": "https://localhost:8080/"
        },
        "outputId": "d2c4c957-4ebb-4369-d513-204230a2988e"
      },
      "source": [
        "# Input\r\n",
        "ser = np.random.randint(1, 10, 7)\r\n",
        "# Solution\r\n",
        "#ser[ser%3==0]       #this one not only returns positions but also values\r\n",
        "np.argwhere(ser%3==0)   #this one only returns positions only \r\n",
        "np.where(ser%3==0)\r\n",
        "\r\n",
        "#if pd.series added, we need to use ser.values\r\n",
        "# Input\r\n",
        "ser = pd.Series(np.random.randint(1, 10, 7)) \r\n",
        "# Solution\r\n",
        "np.argwhere(ser.values%3==0)"
      ],
      "execution_count": 55,
      "outputs": [
        {
          "output_type": "execute_result",
          "data": {
            "text/plain": [
              "array([[0]])"
            ]
          },
          "metadata": {
            "tags": []
          },
          "execution_count": 55
        }
      ]
    },
    {
      "cell_type": "markdown",
      "metadata": {
        "id": "ZMi37ObofBUN"
      },
      "source": [
        "14. How to extract items at given positions from a series"
      ]
    },
    {
      "cell_type": "code",
      "metadata": {
        "colab": {
          "base_uri": "https://localhost:8080/"
        },
        "id": "dIvHzW-OfD9P",
        "outputId": "8b13cef4-ba45-4d3f-bb2b-c476679bcb17"
      },
      "source": [
        "# Input\r\n",
        "ser = pd.Series(list('abcdefghijklmnopqrstuvwxyz'))\r\n",
        "pos = [0, 4, 8, 14, 20]\r\n",
        "\r\n",
        "# Solution\r\n",
        "#ser.take(pos)      #both works\r\n",
        "ser[pos]"
      ],
      "execution_count": 47,
      "outputs": [
        {
          "output_type": "execute_result",
          "data": {
            "text/plain": [
              "0     a\n",
              "4     e\n",
              "8     i\n",
              "14    o\n",
              "20    u\n",
              "dtype: object"
            ]
          },
          "metadata": {
            "tags": []
          },
          "execution_count": 47
        }
      ]
    },
    {
      "cell_type": "markdown",
      "metadata": {
        "id": "Exn66JC1gvhv"
      },
      "source": [
        "15. How to stack two series vertically and horizontally ?"
      ]
    },
    {
      "cell_type": "code",
      "metadata": {
        "id": "PCttAm56g02y"
      },
      "source": [
        "# Input\r\n",
        "ser1 = pd.Series(range(5))\r\n",
        "ser2 = pd.Series(list('abcde'))\r\n",
        "\r\n",
        "\r\n",
        "# Output\r\n",
        "# Vertical\r\n",
        "#ser1.append(ser2)\r\n",
        "\r\n",
        "# Horizontal\r\n",
        "df = pd.concat([ser1, ser2], axis=1)      #axis{0/’index’, 1/’columns’}, default 0"
      ],
      "execution_count": null,
      "outputs": []
    },
    {
      "cell_type": "markdown",
      "metadata": {
        "id": "_ADGGNqThO1Z"
      },
      "source": [
        "16. How to get the positions of items of series A in another series B?"
      ]
    },
    {
      "cell_type": "code",
      "metadata": {
        "id": "QOPu6N1Xhhku"
      },
      "source": [
        "# Input\r\n",
        "ser1 = pd.Series([10, 9, 6, 5, 3, 1, 12, 8, 13])\r\n",
        "ser2 = pd.Series([1, 3, 10, 13])\r\n",
        "\r\n",
        "# Solution 1\r\n",
        "[np.where(i == ser1)[0].tolist()[0] for i in ser2]\r\n",
        "\r\n",
        "# Solution 2\r\n",
        "[pd.Index(ser1).get_loc(i) for i in ser2]"
      ],
      "execution_count": null,
      "outputs": []
    },
    {
      "cell_type": "markdown",
      "metadata": {
        "id": "_5EV5da9B7C9"
      },
      "source": [
        "17. How to compute the mean squared error on a truth and predicted series?"
      ]
    },
    {
      "cell_type": "code",
      "metadata": {
        "id": "NoAjFN1QB81F"
      },
      "source": [
        "# Input\r\n",
        "truth = pd.Series(range(10))\r\n",
        "pred = pd.Series(range(10)) + np.random.random(10)\r\n",
        "\r\n",
        "# Solution\r\n",
        "np.mean((truth-pred)**2)"
      ],
      "execution_count": null,
      "outputs": []
    },
    {
      "cell_type": "markdown",
      "metadata": {
        "id": "sukDLrFfCGVQ"
      },
      "source": [
        "18. How to convert the first character of each element in a series to uppercase?"
      ]
    },
    {
      "cell_type": "code",
      "metadata": {
        "id": "6bTIxET1CIg1"
      },
      "source": [
        "# Input\r\n",
        "ser = pd.Series(['how', 'to', 'kick', 'off?'])\r\n",
        "\r\n",
        "# Solution 1\r\n",
        "ser.map(lambda x: x.title())\r\n",
        "\r\n",
        "# Solution 2\r\n",
        "ser.map(lambda x: x[0].upper() + x[1:])\r\n",
        "\r\n",
        "# Solution 3\r\n",
        "pd.Series([i.title() for i in ser])"
      ],
      "execution_count": null,
      "outputs": []
    },
    {
      "cell_type": "markdown",
      "metadata": {
        "id": "ZeQQVAzNCYW9"
      },
      "source": [
        "19. How to calculate the number of characters in each word in a series?"
      ]
    },
    {
      "cell_type": "code",
      "metadata": {
        "id": "OkVtviKzCcpp"
      },
      "source": [
        "# Input\r\n",
        "ser = pd.Series(['how', 'to', 'kick', 'off?'])\r\n",
        "\r\n",
        "# Solution\r\n",
        "ser.map(lambda x: len(x))"
      ],
      "execution_count": null,
      "outputs": []
    },
    {
      "cell_type": "markdown",
      "metadata": {
        "id": "BASUU0fNCnWA"
      },
      "source": [
        "20. How to compute difference of differences between consequtive numbers of a series?"
      ]
    },
    {
      "cell_type": "code",
      "metadata": {
        "id": "ArHRsbKuCnEB"
      },
      "source": [
        "# Input\r\n",
        "ser = pd.Series([1, 3, 6, 10, 15, 21, 27, 35])\r\n",
        "\r\n",
        "# Solution\r\n",
        "print(ser.diff().tolist())\r\n",
        "print(ser.diff().diff().tolist())"
      ],
      "execution_count": null,
      "outputs": []
    },
    {
      "cell_type": "markdown",
      "metadata": {
        "id": "CexLJmMlC2eM"
      },
      "source": [
        "21. How to convert a series of date-strings to a timeseries?"
      ]
    },
    {
      "cell_type": "code",
      "metadata": {
        "id": "hLtzjHVEC47j"
      },
      "source": [
        "# Input\r\n",
        "ser = pd.Series(['01 Jan 2010', '02-02-2011', '20120303', '2013/04/04', '2014-05-05', '2015-06-06T12:20'])\r\n",
        "\r\n",
        "# Solution 1\r\n",
        "from dateutil.parser import parse    #This module offers a generic date/time string parser which is able to parse most known formats to represent a date and/or time.\r\n",
        "ser.map(lambda x: parse(x))\r\n",
        "\r\n",
        "# Solution 2\r\n",
        "pd.to_datetime(ser)"
      ],
      "execution_count": null,
      "outputs": []
    },
    {
      "cell_type": "markdown",
      "metadata": {
        "id": "LYkJgNKgEp7t"
      },
      "source": [
        "22. How to get the day of month, week number, day of year and day of week from a series of date strings?"
      ]
    },
    {
      "cell_type": "code",
      "metadata": {
        "id": "SIhelvtcEvCv"
      },
      "source": [
        "# Input\r\n",
        "ser = pd.Series(['01 Jan 2010', '02-02-2011', '20120303', '2013/04/04', '2014-05-05', '2015-06-06T12:20'])\r\n",
        "\r\n",
        "# Solution\r\n",
        "from dateutil.parser import parse\r\n",
        "ser_ts = ser.map(lambda x: parse(x))\r\n",
        "\r\n",
        "# day of month\r\n",
        "print(\"Date: \", ser_ts.dt.day.tolist())\r\n",
        "\r\n",
        "# week number\r\n",
        "print(\"Week number: \", ser_ts.dt.weekofyear.tolist())\r\n",
        "\r\n",
        "# day of year\r\n",
        "print(\"Day number of year: \", ser_ts.dt.dayofyear.tolist())\r\n",
        "\r\n",
        "# day of week\r\n",
        "print(\"Day of week: \", ser_ts.dt.weekday_name.tolist())"
      ],
      "execution_count": null,
      "outputs": []
    },
    {
      "cell_type": "markdown",
      "metadata": {
        "id": "zL2WyV5hFaW2"
      },
      "source": [
        "23. How to convert year-month string to dates corresponding to the 4th day of the month?"
      ]
    },
    {
      "cell_type": "code",
      "metadata": {
        "id": "vf-6YZ0rFkXn"
      },
      "source": [
        ""
      ],
      "execution_count": null,
      "outputs": []
    }
  ]
}